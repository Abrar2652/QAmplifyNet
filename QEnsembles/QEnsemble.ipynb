{
  "cells": [
    {
      "cell_type": "markdown",
      "metadata": {
        "id": "7TI0jzFo5fV_"
      },
      "source": [
        "# **Stacking with QSVM and LGBM as base classifiers and Logistic regressor(LR) as meta classifier**\n",
        "In this tutorial, we will see the classical stacking of QSVM,LGBM and LR algorithms, with QSVM, LGBM as base classifiers and LR as meta classifier. The stacking algorithm works as below\\\n",
        "1) The base classifiers are trained with training data\\\n",
        "2) The trained base classifiers are used to test both training data and testing data\\\n",
        "3) The output labels from base classifiers on training and testing data are appended as features to original training and testing data\\\n",
        "4) Now we train the meta classifier with appended training data and test it on appended testing data to get final prediction values\n",
        "\n"
      ]
    },
    {
      "cell_type": "markdown",
      "metadata": {
        "id": "wwgHoJdKZBuf"
      },
      "source": [
        "Below is detailed explanation and implementation of each of above steps\n"
      ]
    },
    {
      "cell_type": "markdown",
      "metadata": {
        "id": "CDRv2RL3fF42"
      },
      "source": [
        "We first need to install qiskit and qiskit_machine_learning modules if not already installed. We start by importing all necessary libraries from qiskit,  qiskit\\_machine\\_learning and some related modules as shown in below cells."
      ]
    },
    {
      "cell_type": "code",
      "execution_count": 1,
      "metadata": {
        "id": "ba5f1a2c",
        "scrolled": true,
        "colab": {
          "base_uri": "https://localhost:8080/"
        },
        "outputId": "517beee5-c0ae-49f4-df9a-1a4bed0ddb9e"
      },
      "outputs": [
        {
          "output_type": "stream",
          "name": "stdout",
          "text": [
            "Looking in indexes: https://pypi.org/simple, https://us-python.pkg.dev/colab-wheels/public/simple/\n",
            "Collecting qiskit\n",
            "  Downloading qiskit-0.43.1.tar.gz (9.6 kB)\n",
            "  Installing build dependencies ... \u001b[?25l\u001b[?25hdone\n",
            "  Getting requirements to build wheel ... \u001b[?25l\u001b[?25hdone\n",
            "  Installing backend dependencies ... \u001b[?25l\u001b[?25hdone\n",
            "  Preparing metadata (pyproject.toml) ... \u001b[?25l\u001b[?25hdone\n",
            "Collecting qiskit_machine_learning\n",
            "  Downloading qiskit_machine_learning-0.6.1-py3-none-any.whl (148 kB)\n",
            "\u001b[2K     \u001b[90m━━━━━━━━━━━━━━━━━━━━━━━━━━━━━━━━━━━━━━━\u001b[0m \u001b[32m148.7/148.7 kB\u001b[0m \u001b[31m3.9 MB/s\u001b[0m eta \u001b[36m0:00:00\u001b[0m\n",
            "\u001b[?25hCollecting qiskit-terra==0.24.1 (from qiskit)\n",
            "  Downloading qiskit_terra-0.24.1-cp310-cp310-manylinux_2_17_x86_64.manylinux2014_x86_64.whl (5.9 MB)\n",
            "\u001b[2K     \u001b[90m━━━━━━━━━━━━━━━━━━━━━━━━━━━━━━━━━━━━━━━━\u001b[0m \u001b[32m5.9/5.9 MB\u001b[0m \u001b[31m64.9 MB/s\u001b[0m eta \u001b[36m0:00:00\u001b[0m\n",
            "\u001b[?25hCollecting qiskit-aer==0.12.0 (from qiskit)\n",
            "  Downloading qiskit_aer-0.12.0-cp310-cp310-manylinux_2_17_x86_64.manylinux2014_x86_64.whl (12.8 MB)\n",
            "\u001b[2K     \u001b[90m━━━━━━━━━━━━━━━━━━━━━━━━━━━━━━━━━━━━━━━━\u001b[0m \u001b[32m12.8/12.8 MB\u001b[0m \u001b[31m69.7 MB/s\u001b[0m eta \u001b[36m0:00:00\u001b[0m\n",
            "\u001b[?25hCollecting qiskit-ibmq-provider==0.20.2 (from qiskit)\n",
            "  Downloading qiskit_ibmq_provider-0.20.2-py3-none-any.whl (241 kB)\n",
            "\u001b[2K     \u001b[90m━━━━━━━━━━━━━━━━━━━━━━━━━━━━━━━━━━━━━━\u001b[0m \u001b[32m241.5/241.5 kB\u001b[0m \u001b[31m22.9 MB/s\u001b[0m eta \u001b[36m0:00:00\u001b[0m\n",
            "\u001b[?25hRequirement already satisfied: numpy>=1.16.3 in /usr/local/lib/python3.10/dist-packages (from qiskit-aer==0.12.0->qiskit) (1.22.4)\n",
            "Requirement already satisfied: scipy>=1.0 in /usr/local/lib/python3.10/dist-packages (from qiskit-aer==0.12.0->qiskit) (1.10.1)\n",
            "Requirement already satisfied: requests>=2.19 in /usr/local/lib/python3.10/dist-packages (from qiskit-ibmq-provider==0.20.2->qiskit) (2.27.1)\n",
            "Collecting requests-ntlm<=1.1.0 (from qiskit-ibmq-provider==0.20.2->qiskit)\n",
            "  Downloading requests_ntlm-1.1.0-py2.py3-none-any.whl (5.7 kB)\n",
            "Requirement already satisfied: urllib3>=1.21.1 in /usr/local/lib/python3.10/dist-packages (from qiskit-ibmq-provider==0.20.2->qiskit) (1.26.15)\n",
            "Requirement already satisfied: python-dateutil>=2.8.0 in /usr/local/lib/python3.10/dist-packages (from qiskit-ibmq-provider==0.20.2->qiskit) (2.8.2)\n",
            "Requirement already satisfied: websocket-client>=1.5.1 in /usr/local/lib/python3.10/dist-packages (from qiskit-ibmq-provider==0.20.2->qiskit) (1.5.1)\n",
            "Collecting websockets>=10.0 (from qiskit-ibmq-provider==0.20.2->qiskit)\n",
            "  Downloading websockets-11.0.3-cp310-cp310-manylinux_2_5_x86_64.manylinux1_x86_64.manylinux_2_17_x86_64.manylinux2014_x86_64.whl (129 kB)\n",
            "\u001b[2K     \u001b[90m━━━━━━━━━━━━━━━━━━━━━━━━━━━━━━━━━━━━━━\u001b[0m \u001b[32m129.9/129.9 kB\u001b[0m \u001b[31m14.3 MB/s\u001b[0m eta \u001b[36m0:00:00\u001b[0m\n",
            "\u001b[?25hCollecting rustworkx>=0.12.0 (from qiskit-terra==0.24.1->qiskit)\n",
            "  Downloading rustworkx-0.13.0-cp310-cp310-manylinux_2_17_x86_64.manylinux2014_x86_64.whl (1.9 MB)\n",
            "\u001b[2K     \u001b[90m━━━━━━━━━━━━━━━━━━━━━━━━━━━━━━━━━━━━━━━━\u001b[0m \u001b[32m1.9/1.9 MB\u001b[0m \u001b[31m52.9 MB/s\u001b[0m eta \u001b[36m0:00:00\u001b[0m\n",
            "\u001b[?25hCollecting ply>=3.10 (from qiskit-terra==0.24.1->qiskit)\n",
            "  Downloading ply-3.11-py2.py3-none-any.whl (49 kB)\n",
            "\u001b[2K     \u001b[90m━━━━━━━━━━━━━━━━━━━━━━━━━━━━━━━━━━━━━━━━\u001b[0m \u001b[32m49.6/49.6 kB\u001b[0m \u001b[31m4.9 MB/s\u001b[0m eta \u001b[36m0:00:00\u001b[0m\n",
            "\u001b[?25hRequirement already satisfied: psutil>=5 in /usr/local/lib/python3.10/dist-packages (from qiskit-terra==0.24.1->qiskit) (5.9.5)\n",
            "Requirement already satisfied: sympy>=1.3 in /usr/local/lib/python3.10/dist-packages (from qiskit-terra==0.24.1->qiskit) (1.11.1)\n",
            "Collecting dill>=0.3 (from qiskit-terra==0.24.1->qiskit)\n",
            "  Downloading dill-0.3.6-py3-none-any.whl (110 kB)\n",
            "\u001b[2K     \u001b[90m━━━━━━━━━━━━━━━━━━━━━━━━━━━━━━━━━━━━━━\u001b[0m \u001b[32m110.5/110.5 kB\u001b[0m \u001b[31m12.3 MB/s\u001b[0m eta \u001b[36m0:00:00\u001b[0m\n",
            "\u001b[?25hCollecting stevedore>=3.0.0 (from qiskit-terra==0.24.1->qiskit)\n",
            "  Downloading stevedore-5.1.0-py3-none-any.whl (49 kB)\n",
            "\u001b[2K     \u001b[90m━━━━━━━━━━━━━━━━━━━━━━━━━━━━━━━━━━━━━━━━\u001b[0m \u001b[32m49.6/49.6 kB\u001b[0m \u001b[31m5.5 MB/s\u001b[0m eta \u001b[36m0:00:00\u001b[0m\n",
            "\u001b[?25hCollecting symengine<0.10,>=0.9 (from qiskit-terra==0.24.1->qiskit)\n",
            "  Downloading symengine-0.9.2-cp310-cp310-manylinux2010_x86_64.whl (37.5 MB)\n",
            "\u001b[2K     \u001b[90m━━━━━━━━━━━━━━━━━━━━━━━━━━━━━━━━━━━━━━━━\u001b[0m \u001b[32m37.5/37.5 MB\u001b[0m \u001b[31m15.4 MB/s\u001b[0m eta \u001b[36m0:00:00\u001b[0m\n",
            "\u001b[?25hRequirement already satisfied: scikit-learn>=0.20.0 in /usr/local/lib/python3.10/dist-packages (from qiskit_machine_learning) (1.2.2)\n",
            "Collecting fastdtw (from qiskit_machine_learning)\n",
            "  Downloading fastdtw-0.3.4.tar.gz (133 kB)\n",
            "\u001b[2K     \u001b[90m━━━━━━━━━━━━━━━━━━━━━━━━━━━━━━━━━━━━━━\u001b[0m \u001b[32m133.4/133.4 kB\u001b[0m \u001b[31m14.9 MB/s\u001b[0m eta \u001b[36m0:00:00\u001b[0m\n",
            "\u001b[?25h  Preparing metadata (setup.py) ... \u001b[?25l\u001b[?25hdone\n",
            "Requirement already satisfied: setuptools>=40.1.0 in /usr/local/lib/python3.10/dist-packages (from qiskit_machine_learning) (67.7.2)\n",
            "Requirement already satisfied: joblib>=1.1.1 in /usr/local/lib/python3.10/dist-packages (from scikit-learn>=0.20.0->qiskit_machine_learning) (1.2.0)\n",
            "Requirement already satisfied: threadpoolctl>=2.0.0 in /usr/local/lib/python3.10/dist-packages (from scikit-learn>=0.20.0->qiskit_machine_learning) (3.1.0)\n",
            "Requirement already satisfied: six>=1.5 in /usr/local/lib/python3.10/dist-packages (from python-dateutil>=2.8.0->qiskit-ibmq-provider==0.20.2->qiskit) (1.16.0)\n",
            "Requirement already satisfied: certifi>=2017.4.17 in /usr/local/lib/python3.10/dist-packages (from requests>=2.19->qiskit-ibmq-provider==0.20.2->qiskit) (2022.12.7)\n",
            "Requirement already satisfied: charset-normalizer~=2.0.0 in /usr/local/lib/python3.10/dist-packages (from requests>=2.19->qiskit-ibmq-provider==0.20.2->qiskit) (2.0.12)\n",
            "Requirement already satisfied: idna<4,>=2.5 in /usr/local/lib/python3.10/dist-packages (from requests>=2.19->qiskit-ibmq-provider==0.20.2->qiskit) (3.4)\n",
            "Collecting ntlm-auth>=1.0.2 (from requests-ntlm<=1.1.0->qiskit-ibmq-provider==0.20.2->qiskit)\n",
            "  Downloading ntlm_auth-1.5.0-py2.py3-none-any.whl (29 kB)\n",
            "Requirement already satisfied: cryptography>=1.3 in /usr/local/lib/python3.10/dist-packages (from requests-ntlm<=1.1.0->qiskit-ibmq-provider==0.20.2->qiskit) (40.0.2)\n",
            "Collecting pbr!=2.1.0,>=2.0.0 (from stevedore>=3.0.0->qiskit-terra==0.24.1->qiskit)\n",
            "  Downloading pbr-5.11.1-py2.py3-none-any.whl (112 kB)\n",
            "\u001b[2K     \u001b[90m━━━━━━━━━━━━━━━━━━━━━━━━━━━━━━━━━━━━━━\u001b[0m \u001b[32m112.7/112.7 kB\u001b[0m \u001b[31m12.8 MB/s\u001b[0m eta \u001b[36m0:00:00\u001b[0m\n",
            "\u001b[?25hRequirement already satisfied: mpmath>=0.19 in /usr/local/lib/python3.10/dist-packages (from sympy>=1.3->qiskit-terra==0.24.1->qiskit) (1.3.0)\n",
            "Requirement already satisfied: cffi>=1.12 in /usr/local/lib/python3.10/dist-packages (from cryptography>=1.3->requests-ntlm<=1.1.0->qiskit-ibmq-provider==0.20.2->qiskit) (1.15.1)\n",
            "Requirement already satisfied: pycparser in /usr/local/lib/python3.10/dist-packages (from cffi>=1.12->cryptography>=1.3->requests-ntlm<=1.1.0->qiskit-ibmq-provider==0.20.2->qiskit) (2.21)\n",
            "Building wheels for collected packages: qiskit, fastdtw\n",
            "  Building wheel for qiskit (pyproject.toml) ... \u001b[?25l\u001b[?25hdone\n",
            "  Created wheel for qiskit: filename=qiskit-0.43.1-py3-none-any.whl size=8029 sha256=2d63bfa41caf81c4c9a472fcb489be157464b224056422dd81689780e4e3c61f\n",
            "  Stored in directory: /root/.cache/pip/wheels/f1/f6/ad/0f2527d2cc0028cd682619f1b50a24476fd3592e0c63f87282\n",
            "  Building wheel for fastdtw (setup.py) ... \u001b[?25l\u001b[?25hdone\n",
            "  Created wheel for fastdtw: filename=fastdtw-0.3.4-cp310-cp310-linux_x86_64.whl size=517909 sha256=911e47988b8f12947dd589cdb7ddfca88f326e027a31ed46817b8a564c4c22cf\n",
            "  Stored in directory: /root/.cache/pip/wheels/73/c8/f7/c25448dab74c3acf4848bc25d513c736bb93910277e1528ef4\n",
            "Successfully built qiskit fastdtw\n",
            "Installing collected packages: ply, websockets, symengine, rustworkx, pbr, ntlm-auth, fastdtw, dill, stevedore, requests-ntlm, qiskit-terra, qiskit_machine_learning, qiskit-ibmq-provider, qiskit-aer, qiskit\n",
            "Successfully installed dill-0.3.6 fastdtw-0.3.4 ntlm-auth-1.5.0 pbr-5.11.1 ply-3.11 qiskit-0.43.1 qiskit-aer-0.12.0 qiskit-ibmq-provider-0.20.2 qiskit-terra-0.24.1 qiskit_machine_learning-0.6.1 requests-ntlm-1.1.0 rustworkx-0.13.0 stevedore-5.1.0 symengine-0.9.2 websockets-11.0.3\n"
          ]
        }
      ],
      "source": [
        "!pip install qiskit qiskit_machine_learning\n",
        "from qiskit import BasicAer\n",
        "from qiskit.utils import QuantumInstance, algorithm_globals\n",
        "from qiskit.algorithms.optimizers import COBYLA\n",
        "from qiskit.circuit.library import TwoLocal\n",
        "from qiskit_machine_learning.algorithms import VQC, QSVC\n",
        "from qiskit_machine_learning.circuit.library import RawFeatureVector\n",
        "from qiskit.circuit.library import RealAmplitudes, ZZFeatureMap, ZFeatureMap, NLocal\n",
        "from qiskit import QuantumCircuit\n",
        "from qiskit.circuit import Parameter\n",
        "from qiskit_machine_learning.kernels import QuantumKernel\n",
        "\n",
        "import numpy as np # linear algebra\n",
        "import pandas as pd # data processing, CSV file I/O (e.g. pd.read_csv)\n",
        "import warnings\n",
        "warnings.filterwarnings(\"ignore\")\n",
        "import matplotlib.pyplot as plt\n",
        "\n",
        "from sklearn import preprocessing\n",
        "from sklearn import metrics\n",
        "from sklearn.metrics import davies_bouldin_score, pairwise_distances, silhouette_samples, silhouette_score\n",
        "from sklearn.metrics.pairwise import euclidean_distances\n",
        "from sklearn.decomposition import PCA, TruncatedSVD\n",
        "from sklearn.cluster import KMeans, AgglomerativeClustering \n",
        "from sklearn.manifold import TSNE\n",
        "\n",
        "# classifier Libraries\n",
        "from sklearn.linear_model import LogisticRegression\n",
        "from sklearn.svm import SVC\n",
        "from sklearn.neighbors import KNeighborsClassifier\n",
        "from sklearn.tree import DecisionTreeClassifier\n",
        "from sklearn.ensemble import RandomForestClassifier\n",
        "import collections\n",
        "\n",
        "\n",
        "# Other Libraries\n",
        "from sklearn.model_selection import train_test_split\n",
        "from sklearn.pipeline import make_pipeline\n",
        "from imblearn.pipeline import make_pipeline as imbalanced_make_pipeline\n",
        "from imblearn.over_sampling import SMOTE\n",
        "from imblearn.under_sampling import NearMiss\n",
        "from imblearn.metrics import classification_report_imbalanced\n",
        "from sklearn.metrics import precision_score, recall_score, f1_score, roc_auc_score, accuracy_score, classification_report\n",
        "from collections import Counter\n",
        "from sklearn.model_selection import KFold, StratifiedKFold\n",
        "\n",
        "from time import time\n",
        "from datetime import datetime\n",
        "import matplotlib.cm as cm\n",
        "from scipy.spatial.distance import cdist\n",
        "\n",
        "from datetime import datetime\n",
        "from joblib import Parallel, delayed\n",
        "\n",
        "import seaborn as sns\n",
        "import plotly.express as px\n",
        "import plotly as py\n",
        "import plotly.graph_objs as go\n",
        "from plotly.offline import download_plotlyjs, init_notebook_mode, plot, iplot\n",
        "\n",
        "# Input data files are available in the read-only \"../input/\" directory\n",
        "# For example, running this (by clicking run or pressing Shift+Enter) will list all files under the input directory\n",
        "\n",
        "import os\n",
        "\n",
        "# You can write up to 20GB to the current directory (/kaggle/working/) that gets preserved as output when you create a version using \"Save & Run All\" \n",
        "# You can also write temporary files to /kaggle/temp/, but they won't be saved outside of the current session"
      ]
    },
    {
      "cell_type": "code",
      "execution_count": 2,
      "metadata": {
        "colab": {
          "base_uri": "https://localhost:8080/"
        },
        "id": "ANbvU_5RmHUj",
        "outputId": "6964f685-3e39-430e-ff26-b4ed00c1b74b"
      },
      "outputs": [
        {
          "output_type": "stream",
          "name": "stdout",
          "text": [
            "Mounted at /content/drive\n"
          ]
        }
      ],
      "source": [
        "from google.colab import drive\n",
        "drive.mount('/content/drive')"
      ]
    },
    {
      "cell_type": "code",
      "execution_count": 3,
      "metadata": {
        "id": "c5f149ce"
      },
      "outputs": [],
      "source": [
        "import numpy as np\n",
        "from sklearn import svm, metrics\n",
        "from sklearn.metrics import classification_report, confusion_matrix\n",
        "from time import time\n",
        "from sklearn.linear_model import LogisticRegression\n",
        "import lightgbm as lgb"
      ]
    },
    {
      "cell_type": "markdown",
      "metadata": {
        "id": "lTQ4H2QEnxqY"
      },
      "source": [
        "###Data set\n",
        "We use ethereum networks data to perform stacking. We consider 7 features for data set\\\n",
        "1) Degree - In degree, Out degree, Total degree\\\n",
        "2) Strength - In strength, Out strength, Total strength\\\n",
        "3) Number of neighbours\n",
        "\n",
        "The files 'train_data.npy' and 'train_labels.npy' have 960 training data points and corresponding labels respectively, first 160 training data points are of phishing nodes and next 800 are of non-phishing nodes. The files 'test_data.npy' and 'test_labels.npy' have 11000 testing data points and corresponding labels respectively, first 1000 testing data points are of phishing nodes and next 10000 are of non-phishing nodes.\n",
        "\n",
        "\n",
        "let us choose 320 training data points to perform stacking, 160 phishing and 160 non-phishing. Even though the real life data is highly imbalanced, we choose equal number of phishing and non-phishing nodes for training our classifiers and then test on imbalanced testing data. With different experiments on this data set, taking balanced training data proved more effective in giving good results"
      ]
    },
    {
      "cell_type": "code",
      "execution_count": 4,
      "metadata": {
        "colab": {
          "base_uri": "https://localhost:8080/"
        },
        "id": "POPwKAgRnilg",
        "outputId": "e2b0df42-2807-496a-fdb3-256b37b23dcb"
      },
      "outputs": [
        {
          "output_type": "stream",
          "name": "stdout",
          "text": [
            "No backorder 99.3 % of the dataset\n",
            "Backorder 0.7 % of the dataset\n",
            "Train: [ 259572  259620  259654 ... 1775315 1775316 1775317] Test: [     0      1      2 ... 355895 355896 355897]\n",
            "Train: [      0       1       2 ... 1775315 1775316 1775317] Test: [259572 259620 259654 ... 711229 711230 711231]\n",
            "Train: [      0       1       2 ... 1775315 1775316 1775317] Test: [ 562975  562992  563216 ... 1066527 1066528 1066529]\n",
            "Train: [      0       1       2 ... 1775315 1775316 1775317] Test: [ 913555  913679  913781 ... 1549977 1550291 1550807]\n",
            "Train: [      0       1       2 ... 1549977 1550291 1550807] Test: [1420136 1420137 1420138 ... 1775315 1775316 1775317]\n",
            "----------------------------------------------------------------------------------------------------\n",
            "Label Distributions: \n",
            "\n",
            "[0.99296253 0.00703747]\n",
            "[0.99296181 0.00703819]\n"
          ]
        }
      ],
      "source": [
        "X = pd.read_csv(\"/content/drive/MyDrive/SC-ML Research/x_vif_only.csv\")\n",
        "X.drop(['Unnamed: 0','rev_stop'], axis=1, inplace=True)\n",
        "y = pd.read_csv(\"/content/drive/MyDrive/SC-ML Research/y.csv\", index_col=None)['went_on_backorder']\n",
        "\n",
        "from sklearn.model_selection import train_test_split\n",
        "from sklearn.model_selection import StratifiedShuffleSplit\n",
        "\n",
        "print('No backorder', round(y.value_counts()[0]/len(y) * 100,2), '% of the dataset')\n",
        "print('Backorder', round(y.value_counts()[1]/len(y) * 100,2), '% of the dataset')\n",
        "\n",
        "sss = StratifiedKFold(n_splits=5, random_state=None, shuffle=False)\n",
        "\n",
        "for train_index, test_index in sss.split(X, y):\n",
        "    print(\"Train:\", train_index, \"Test:\", test_index)\n",
        "    original_Xtrain, original_Xtest = X.iloc[train_index], X.iloc[test_index]\n",
        "    original_ytrain, original_ytest = y.iloc[train_index], y.iloc[test_index]\n",
        "\n",
        "# We already have X_train and y_train for undersample data thats why I am using original to distinguish and to not overwrite these variables.\n",
        "# original_Xtrain, original_Xtest, original_ytrain, original_ytest = train_test_split(X, y, test_size=0.2, random_state=42)\n",
        "\n",
        "# Turn into an array\n",
        "original_Xtrain = original_Xtrain.values\n",
        "original_Xtest = original_Xtest.values\n",
        "original_ytrain = original_ytrain.values\n",
        "original_ytest = original_ytest.values\n",
        "\n",
        "# See if both the train and test label distribution are similarly distributed\n",
        "train_unique_label, train_counts_label = np.unique(original_ytrain, return_counts=True)\n",
        "test_unique_label, test_counts_label = np.unique(original_ytest, return_counts=True)\n",
        "print('-' * 100)\n",
        "\n",
        "print('Label Distributions: \\n')\n",
        "print(train_counts_label/ len(original_ytrain))\n",
        "print(test_counts_label/ len(original_ytest))"
      ]
    },
    {
      "cell_type": "code",
      "execution_count": 5,
      "metadata": {
        "colab": {
          "base_uri": "https://localhost:8080/"
        },
        "id": "eNip4Rimnios",
        "outputId": "f2a55668-ef9d-4fad-ce66-065a35f0802e"
      },
      "outputs": [
        {
          "output_type": "stream",
          "name": "stdout",
          "text": [
            "Length of X (train): 1420255 | Length of y (train): 1420255\n",
            "Length of X (test): 355063 | Length of y (test): 355063\n",
            "Before UnderSampling, counts of label '1': 9995\n",
            "Before UnderSampling, counts of label '0': 1410260 \n",
            "\n"
          ]
        }
      ],
      "source": [
        "print('Length of X (train): {} | Length of y (train): {}'.format(len(original_Xtrain), len(original_ytrain)))\n",
        "print('Length of X (test): {} | Length of y (test): {}'.format(len(original_Xtest), len(original_ytest)))\n",
        "print(\"Before UnderSampling, counts of label '1': {}\".format(sum(original_ytrain == 1)))\n",
        "print(\"Before UnderSampling, counts of label '0': {} \\n\".format(sum(original_ytrain == 0)))"
      ]
    },
    {
      "cell_type": "code",
      "execution_count": 6,
      "metadata": {
        "colab": {
          "base_uri": "https://localhost:8080/"
        },
        "id": "mXmBlLE0nqpC",
        "outputId": "5cfa1405-b8b4-4b71-ba3a-d1989c01b00b"
      },
      "outputs": [
        {
          "output_type": "stream",
          "name": "stdout",
          "text": [
            "test, counts of label '1': 2499\n",
            "test, counts of label '0': 352564 \n",
            "\n"
          ]
        }
      ],
      "source": [
        "print(\"test, counts of label '1': {}\".format(sum(original_ytest == 1)))\n",
        "print(\"test, counts of label '0': {} \\n\".format(sum(original_ytest == 0)))"
      ]
    },
    {
      "cell_type": "code",
      "execution_count": 7,
      "metadata": {
        "id": "yzy6mPdFntol"
      },
      "outputs": [],
      "source": [
        "from imblearn.under_sampling import NearMiss\n",
        "from sklearn.model_selection import train_test_split, RandomizedSearchCV\n",
        "\n",
        "sm1 = NearMiss(sampling_strategy={0:160,1:160})\n",
        "Xsm_train, ysm_train = sm1.fit_resample(original_Xtrain, original_ytrain)\n",
        "sm2 = NearMiss(sampling_strategy={0:200,1:67})\n",
        "Xsm_test, ysm_test = sm2.fit_resample(original_Xtest, original_ytest)"
      ]
    },
    {
      "cell_type": "code",
      "execution_count": 8,
      "metadata": {
        "colab": {
          "base_uri": "https://localhost:8080/"
        },
        "id": "KvQw6CQ2ntrc",
        "outputId": "c1394d15-edbe-4dae-91e3-305909803ed5"
      },
      "outputs": [
        {
          "output_type": "stream",
          "name": "stdout",
          "text": [
            "After Sampling, the shape of test_X: (267, 14)\n",
            "After Sampling, the shape of test_y: (267,) \n",
            "\n",
            "After Sampling, counts of label '1': 67\n",
            "After Sampling, counts of label '0': 200\n"
          ]
        }
      ],
      "source": [
        "print('After Sampling, the shape of test_X: {}'.format(Xsm_test.shape))\n",
        "print('After Sampling, the shape of test_y: {} \\n'.format(ysm_test.shape))\n",
        "\n",
        "print(\"After Sampling, counts of label '1': {}\".format(sum(ysm_test == 1)))\n",
        "print(\"After Sampling, counts of label '0': {}\".format(sum(ysm_test == 0)))"
      ]
    },
    {
      "cell_type": "code",
      "source": [
        "from sklearn.decomposition import PCA\n",
        " \n",
        "pca = PCA(n_components = 7)\n",
        " \n",
        "trainX = pca.fit_transform(Xsm_train)\n",
        "testX = pca.transform(Xsm_test)\n",
        " \n",
        "explained_variance = pca.explained_variance_ratio_\n",
        "explained_variance"
      ],
      "metadata": {
        "colab": {
          "base_uri": "https://localhost:8080/"
        },
        "id": "NEPnbqikao0W",
        "outputId": "6bf8e313-13c0-411e-c077-89ccbceba6c1"
      },
      "execution_count": 9,
      "outputs": [
        {
          "output_type": "execute_result",
          "data": {
            "text/plain": [
              "array([0.60956345, 0.1612372 , 0.08832099, 0.05199432, 0.02882912,\n",
              "       0.02425017, 0.01719128])"
            ]
          },
          "metadata": {},
          "execution_count": 9
        }
      ]
    },
    {
      "cell_type": "code",
      "execution_count": 10,
      "metadata": {
        "id": "ozJMXLc0nyh-"
      },
      "outputs": [],
      "source": [
        "train_data = trainX.astype(\"float32\")\n",
        "train_labels2 = ysm_train.astype(\"float32\")\n",
        "test_data = testX.astype(\"float32\")\n",
        "test_labels2 = ysm_test.astype(\"float32\")"
      ]
    },
    {
      "cell_type": "code",
      "execution_count": 11,
      "metadata": {
        "id": "2y41_6DfA-BV",
        "scrolled": true
      },
      "outputs": [],
      "source": [
        "train_labels = np.array([train_labels2]).astype(\"float32\")\n",
        "train_labels = train_labels.reshape(len(train_labels2),1)\n",
        "col = []\n",
        "for i in train_labels2:\n",
        "    if i==1:\n",
        "        col.append(0)\n",
        "    else:\n",
        "        col.append(1)\n",
        "\n",
        "col2 = np.array([col]).astype(\"float32\")\n",
        "col2 = col2.reshape(len(col),1)\n",
        "train_labels = np.concatenate((train_labels,col2), axis = 1).astype(\"float32\")"
      ]
    },
    {
      "cell_type": "code",
      "execution_count": 12,
      "metadata": {
        "id": "44TvLJWjI4sx",
        "scrolled": true
      },
      "outputs": [],
      "source": [
        "test_labels = np.array([test_labels2]).astype(\"float32\")\n",
        "test_labels = test_labels.reshape(len(test_labels2),1)\n",
        "col = []\n",
        "for i in test_labels2:\n",
        "    if i==1:\n",
        "        col.append(0)\n",
        "    else:\n",
        "        col.append(1)\n",
        "\n",
        "col2 = np.array([col]).astype(\"float32\")\n",
        "col2 = col2.reshape(len(col),1)\n",
        "test_labels = np.concatenate((test_labels,col2), axis = 1).astype(\"float32\")"
      ]
    },
    {
      "cell_type": "code",
      "execution_count": 13,
      "metadata": {
        "colab": {
          "base_uri": "https://localhost:8080/"
        },
        "id": "wr85w2IWGsPB",
        "outputId": "076eb04f-c6dd-4187-c8d1-b4d1a4c085cb"
      },
      "outputs": [
        {
          "output_type": "execute_result",
          "data": {
            "text/plain": [
              "154"
            ]
          },
          "metadata": {},
          "execution_count": 13
        }
      ],
      "source": [
        "import gc\n",
        "del Xsm_train,ysm_train,Xsm_test,ysm_test,original_Xtrain,original_Xtest,original_ytrain,original_ytest,train_unique_label,train_counts_label,test_unique_label,test_counts_label,X,y\n",
        "gc.collect()"
      ]
    },
    {
      "cell_type": "code",
      "execution_count": 14,
      "metadata": {
        "colab": {
          "base_uri": "https://localhost:8080/"
        },
        "id": "ZRYI4aiRk1nM",
        "outputId": "49c62586-7dab-4826-a385-eb92ae16526e"
      },
      "outputs": [
        {
          "output_type": "stream",
          "name": "stdout",
          "text": [
            "{'learning_rate': [0.01], 'n_estimators': [500], 'objective': ['binary'], 'class_weight': [{0: 1, 1: 3}]}\n"
          ]
        }
      ],
      "source": [
        "#Parameters in LightGBM\n",
        "learning_rate = [0.01]\n",
        "n_estimators = [500] # tree number\n",
        "\n",
        "#Create the param grid for LightGBM\n",
        "param_grid_lgbm = {'learning_rate': learning_rate,\n",
        "'n_estimators': n_estimators,\n",
        "'objective': ['binary'],\n",
        "'class_weight': [{0: 1, 1: 3}]\n",
        "}\n",
        "print(param_grid_lgbm)"
      ]
    },
    {
      "cell_type": "code",
      "execution_count": 15,
      "metadata": {
        "id": "KfN4AK4Wk1nN"
      },
      "outputs": [],
      "source": [
        "#gc.disable()"
      ]
    },
    {
      "cell_type": "markdown",
      "metadata": {
        "id": "6kohburWkZdG"
      },
      "source": [
        "# Classical SVM training and testing\n",
        "We perform classical support vector machine classification to compare our final results"
      ]
    },
    {
      "cell_type": "code",
      "execution_count": 16,
      "metadata": {
        "colab": {
          "base_uri": "https://localhost:8080/",
          "height": 70
        },
        "id": "a3e4eba1",
        "outputId": "07f0fafa-facd-41ef-bec9-acae499d7769"
      },
      "outputs": [
        {
          "output_type": "execute_result",
          "data": {
            "text/plain": [
              "'\\n#training classical SVM with rbf kernel\\n\\nprint(\"*** Training a classical SVM classifier with rbf Kernel ***\")\\n\\n#converting two dimensional labels to 1D\\ntrain_labels_svm = train_labels[:,0]\\ntest_labels_svm = test_labels[:,0]\\n\\nclf = svm.SVC(kernel=\\'rbf\\')\\nstart_time = time()\\nclf.fit(train_data, train_labels_svm)\\nend_time = time()\\nduration = end_time - start_time\\nprint(\"training time for classical SVM : \", duration)\\ny_pred=clf.predict(test_data)\\nprint(confusion_matrix(test_labels_svm, y_pred))\\nprint(classification_report(test_labels_svm, y_pred))\\n'"
            ],
            "application/vnd.google.colaboratory.intrinsic+json": {
              "type": "string"
            }
          },
          "metadata": {},
          "execution_count": 16
        }
      ],
      "source": [
        "'''\n",
        "#training classical SVM with rbf kernel\n",
        "\n",
        "print(\"*** Training a classical SVM classifier with rbf Kernel ***\")\n",
        "\n",
        "#converting two dimensional labels to 1D\n",
        "train_labels_svm = train_labels[:,0]\n",
        "test_labels_svm = test_labels[:,0]\n",
        "\n",
        "clf = svm.SVC(kernel='rbf')\n",
        "start_time = time()\n",
        "clf.fit(train_data, train_labels_svm)\n",
        "end_time = time()\n",
        "duration = end_time - start_time\n",
        "print(\"training time for classical SVM : \", duration)\n",
        "y_pred=clf.predict(test_data)\n",
        "print(confusion_matrix(test_labels_svm, y_pred))\n",
        "print(classification_report(test_labels_svm, y_pred))\n",
        "'''"
      ]
    },
    {
      "cell_type": "markdown",
      "metadata": {
        "id": "BM3fceuvk1nO"
      },
      "source": [
        "# lgbm_qsvm_as_base_lr_meta_stacking\n",
        "\n",
        "600 (train 300:300)\\\n",
        "200 (test 100:100)"
      ]
    },
    {
      "cell_type": "markdown",
      "metadata": {
        "id": "GrFgO9MIki6L"
      },
      "source": [
        "# **Stacking**\n",
        "###Initializing the classifiers\n",
        "Initialize the two base classifiers QSVM and LGBM. ZZ feature map is used to calculate kernel matrix for QSVM classifier. \n",
        "It can be calculated using below equation\\\n",
        "$K(\\vec{x_i},\\vec{x_j}) =K_{ij}= \\vert\\langle\\phi^\\dagger(\\vec{x_j})\\vert\\phi(\\vec{x_i})\\rangle\\vert^2$, where $x_i,x_j\\in X$(training data set) and $\\phi$ represents feature map \n",
        "\n",
        "Statevector simulator is used to simulate the results of quantum computer, it can be replaced with backend for harware results\n",
        "\n",
        "In this tutorial we are considering two base classifiers, the second one is classical ML algorithm LGBM\n",
        "\n",
        "Over these two base classifiers we use Logistic regression as meta classifier"
      ]
    },
    {
      "cell_type": "code",
      "execution_count": 17,
      "metadata": {
        "id": "avceMZNaQCSr"
      },
      "outputs": [],
      "source": [
        "#@title\n",
        "#converting two dimensional labels to 1D\n",
        "train_labels_svm = train_labels[:,0]\n",
        "test_labels_svm = test_labels[:,0]"
      ]
    },
    {
      "cell_type": "code",
      "execution_count": 18,
      "metadata": {
        "id": "79a6dd54",
        "cellView": "form"
      },
      "outputs": [],
      "source": [
        "#@title\n",
        "seed = 1376\n",
        "\n",
        "#feature dimensions\n",
        "feature_dim = train_data.shape[1]\n",
        "\n",
        "#feature map to calculate kernel of QSVM\n",
        "feature_map = ZZFeatureMap(feature_dim)\n",
        "\n",
        "#initialize LGBM classifier\n",
        "num_boost_round = 1000\n",
        "early_stopping_rounds = 10\n",
        "clf = lgb.LGBMClassifier(tree_learner='voting',num_machines=2)\n",
        "\n",
        "#initialize kernel of QSVM\n",
        "kernel = QuantumKernel(feature_map=feature_map,\n",
        "                             quantum_instance=QuantumInstance(BasicAer.get_backend('statevector_simulator'),\n",
        "                                            shots=1,\n",
        "                                            seed_simulator=seed,\n",
        "                                                              seed_transpiler=seed))\n",
        "\n",
        "#initialize QSVM\n",
        "qsvc = QSVC(quantum_kernel=kernel)\n",
        "lr = LogisticRegression()"
      ]
    },
    {
      "cell_type": "markdown",
      "metadata": {
        "id": "u_MTPctWV8f4"
      },
      "source": [
        "###Training the base classifiers\n",
        "In the following cells we train the base classifiers QSVM and LGBM using 320 training data points, then we predict the labels of both training data and testing data using the trained classifiers, the labels we obtained are added as features to initial training and testing data sets, thus our final training data and testing data with appended features consists of total 9 features(one label is added from each classifier)"
      ]
    },
    {
      "cell_type": "code",
      "execution_count": 19,
      "metadata": {
        "colab": {
          "base_uri": "https://localhost:8080/"
        },
        "id": "ohgcR1gyk1nQ",
        "scrolled": true,
        "cellView": "form",
        "outputId": "01c302f4-cfb1-41af-84eb-0671d3c272d9"
      },
      "outputs": [
        {
          "output_type": "stream",
          "name": "stdout",
          "text": [
            "Fitting 5 folds for each of 1 candidates, totalling 5 fits\n",
            "[CV 3/5] END class_weight={0: 1, 1: 3}, learning_rate=0.01, n_estimators=500, objective=binary;, score=0.847 total time=   3.4s\n",
            "[CV 2/5] END class_weight={0: 1, 1: 3}, learning_rate=0.01, n_estimators=500, objective=binary;, score=0.862 total time=   4.2s\n",
            "[CV 4/5] END class_weight={0: 1, 1: 3}, learning_rate=0.01, n_estimators=500, objective=binary;, score=0.952 total time=   4.5s\n",
            "[CV 1/5] END class_weight={0: 1, 1: 3}, learning_rate=0.01, n_estimators=500, objective=binary;, score=0.880 total time=   4.8s\n",
            "[CV 5/5] END class_weight={0: 1, 1: 3}, learning_rate=0.01, n_estimators=500, objective=binary;, score=0.921 total time=   1.3s\n",
            "{'class_weight': {0: 1, 1: 3}, 'learning_rate': 0.01, 'n_estimators': 500, 'objective': 'binary'}\n",
            "done1\n",
            "done2\n",
            "done3\n"
          ]
        }
      ],
      "source": [
        "#@title\n",
        "#train base classifiers and append features to data\n",
        "import sklearn\n",
        "#def level_0():\n",
        "from dask.distributed import Client\n",
        "from joblib import parallel_backend\n",
        "\n",
        "with parallel_backend('multiprocessing'):\n",
        "        #Use QSVM and LGBM on train data, append the predicted labels on train data to train data features\n",
        "        grid_lgbm = sklearn.model_selection.GridSearchCV(estimator = clf, \n",
        "                                                        param_grid = param_grid_lgbm, \n",
        "                                                        cv=5, verbose=3, scoring='roc_auc', n_jobs = 4)\n",
        "\n",
        "      \n",
        "        grid_lgbm.fit(train_data,train_labels_svm)\n",
        "        grid_lgbm = grid_lgbm\n",
        "        grid_result1 = grid_lgbm.best_estimator_\n",
        "        print(grid_lgbm.best_params_)\n",
        "        b = grid_result1.predict(train_data)\n",
        "        label_2 = np.reshape(b,(len(b),1))\n",
        "        e = grid_result1.predict(test_data)\n",
        "        label_5 = np.reshape(e,(len(e),1))\n",
        "        print('done1')\n",
        "        gc.collect()\n",
        "\n",
        "        qsvc.fit(train_data, train_labels_svm)\n",
        "        c = qsvc.predict(train_data)\n",
        "        label_3 = np.reshape(c,(len(c),1))\n",
        "        t1 = np.append(train_data,label_2,1)\n",
        "        train_added = np.append(t1,label_3,1)\n",
        "        print('done2')\n",
        "        gc.collect()\n",
        "\n",
        "        f = qsvc.predict(test_data)\n",
        "        label_6 = np.reshape(f,(len(f),1))\n",
        "        t3 = np.append(test_data,label_5,1)\n",
        "        test_added = np.append(t3,label_6,1)\n",
        "        \n",
        "        print('done3')\n",
        "        gc.collect()\n"
      ]
    },
    {
      "cell_type": "markdown",
      "metadata": {
        "id": "ms-ozvtOW5Ir"
      },
      "source": [
        "###Training the meta classifier\n",
        "The LR classifier is now trained with training data of 320 data points with 9 features (7 features + one feature from prediction label of that particular training data point using QSVM + one feature from prediction label of that particular training data point using LGBM)"
      ]
    },
    {
      "cell_type": "code",
      "execution_count": 20,
      "metadata": {
        "id": "0112289c",
        "cellView": "form",
        "colab": {
          "base_uri": "https://localhost:8080/"
        },
        "outputId": "f01e9045-6b2b-48e5-d949-9bdb5954f714"
      },
      "outputs": [
        {
          "output_type": "stream",
          "name": "stdout",
          "text": [
            "              precision    recall  f1-score   support\n",
            "\n",
            "No Backorder       0.91      0.29      0.44       200\n",
            "   Backorder       0.30      0.91      0.45        67\n",
            "\n",
            "    accuracy                           0.45       267\n",
            "   macro avg       0.60      0.60      0.45       267\n",
            "weighted avg       0.75      0.45      0.44       267\n",
            "\n",
            "                    pre       rec       spe        f1       geo       iba       sup\n",
            "\n",
            "No Backorder       0.91      0.29      0.91      0.44      0.51      0.25       200\n",
            "   Backorder       0.30      0.91      0.29      0.45      0.51      0.28        67\n",
            "\n",
            " avg / total       0.75      0.45      0.75      0.44      0.51      0.26       267\n",
            "\n",
            "[[ 58 142]\n",
            " [  6  61]]\n"
          ]
        }
      ],
      "source": [
        "#@title\n",
        "# predict on appended test data\n",
        "from imblearn.metrics import classification_report_imbalanced\n",
        "from sklearn.metrics import *\n",
        "\n",
        "lr.fit(train_added, train_labels_svm)\n",
        "y_pred_1 = lr.predict(test_added)\n",
        "probs = lr.predict_proba(test_added)\n",
        "preds = probs[:,1]\n",
        "classes = ['No Backorder','Backorder']\n",
        "print(classification_report(test_labels_svm,y_pred_1,target_names=classes))\n",
        "print(classification_report_imbalanced(test_labels_svm,y_pred_1,target_names=classes))\n",
        "print(confusion_matrix(test_labels_svm,y_pred_1))"
      ]
    },
    {
      "cell_type": "markdown",
      "metadata": {
        "id": "AY4CBgVPXslx"
      },
      "source": [
        "###Get final prediction\n",
        "We test the appended data set with 9 features (7 features + one feature from prediction label of that particular test data point using QSVM + one feature from prediction label of that particular test data point using LGBM) using the trained meta classifier (LR) and get our final prediction results"
      ]
    },
    {
      "cell_type": "code",
      "execution_count": 21,
      "metadata": {
        "id": "ffbb5b8d",
        "cellView": "form",
        "colab": {
          "base_uri": "https://localhost:8080/",
          "height": 568
        },
        "outputId": "dfc50f7b-74d7-4da1-a277-ce08fd5fea1b"
      },
      "outputs": [
        {
          "output_type": "display_data",
          "data": {
            "text/plain": [
              "<Figure size 700x500 with 2 Axes>"
            ],
            "image/png": "[encoded data removed]"
          },
          "metadata": {}
        },
        {
          "output_type": "stream",
          "name": "stdout",
          "text": [
            "No Backorders Detected (True Negatives):  58\n",
            "No Backorders Incorrectly Detected (False Positives):  142\n",
            "Backorders Missed (False Negatives):  6\n",
            "Backorders Detected (True Positives):  61\n",
            "Total Backorders:  67\n"
          ]
        }
      ],
      "source": [
        "#@title\n",
        "cm = confusion_matrix(test_labels_svm,y_pred_1)\n",
        "\n",
        "plt.figure(figsize=(7,5))\n",
        "\n",
        "ax = sns.heatmap(cm/np.sum(cm),fmt='.2%', annot=True, cmap='Blues')\n",
        "\n",
        "ax.set_xlabel('\\nPredicted Values')\n",
        "ax.set_ylabel('Actual Values\\n');\n",
        "\n",
        "ax.xaxis.set_ticklabels(classes)\n",
        "ax.yaxis.set_ticklabels(classes)\n",
        "\n",
        "plt.savefig('cm1.png')\n",
        "plt.show()\n",
        "\n",
        "print('No Backorders Detected (True Negatives): ', cm[0][0])\n",
        "print('No Backorders Incorrectly Detected (False Positives): ', cm[0][1])\n",
        "print('Backorders Missed (False Negatives): ', cm[1][0])\n",
        "print('Backorders Detected (True Positives): ', cm[1][1])\n",
        "print('Total Backorders: ', np.sum(cm[1]))"
      ]
    },
    {
      "cell_type": "code",
      "execution_count": 22,
      "metadata": {
        "id": "FTnSR8Hxk1nR",
        "colab": {
          "base_uri": "https://localhost:8080/",
          "height": 487
        },
        "outputId": "8e1ef14f-8723-4346-8957-e3947c8602c5"
      },
      "outputs": [
        {
          "output_type": "display_data",
          "data": {
            "text/plain": [
              "<Figure size 700x500 with 1 Axes>"
            ],
            "image/png": "[encoded data removed]"
          },
          "metadata": {}
        }
      ],
      "source": [
        "#@title\n",
        "import sklearn.metrics as metrics\n",
        "# calculate the fpr and tpr for all thresholds of the classification\n",
        "fpr, tpr, threshold = metrics.roc_curve(test_labels_svm, preds)\n",
        "roc_auc = metrics.auc(fpr, tpr)\n",
        "\n",
        "# method I: plt\n",
        "import matplotlib.pyplot as plt\n",
        "plt.figure(figsize=(7,5))\n",
        "plt.title('Receiver Operating Characteristic Curve')\n",
        "plt.plot(fpr, tpr, 'b', label = 'AUC = %0.2f' % roc_auc)\n",
        "plt.legend(loc = 'lower right')\n",
        "\n",
        "plt.plot([0, 1], [0, 1],'r--')\n",
        "plt.xlim([0, 1])\n",
        "plt.ylim([0, 1])\n",
        "plt.ylabel('True Positive Rate')\n",
        "plt.xlabel('False Positive Rate')\n",
        "plt.savefig('roc_curve1.png')\n",
        "plt.show()"
      ]
    },
    {
      "cell_type": "markdown",
      "metadata": {
        "id": "Ky8oS4gsk1nR"
      },
      "source": [
        "# vqc_base_lgbm_meta_stacking"
      ]
    },
    {
      "cell_type": "code",
      "execution_count": null,
      "metadata": {
        "id": "l1583fNHk1nS",
        "colab": {
          "base_uri": "https://localhost:8080/"
        },
        "outputId": "64d88200-7b9e-4e74-a577-58f9d090ca30"
      },
      "outputs": [
        {
          "output_type": "stream",
          "name": "stdout",
          "text": [
            "done1\n",
            "done2\n",
            "Fitting 2 folds for each of 1 candidates, totalling 2 fits\n",
            "[CV 2/2] END class_weight={0: 1, 1: 3}, learning_rate=0.01, n_estimators=500, objective=binary;, score=0.885 total time=   0.6s\n",
            "[CV 1/2] END class_weight={0: 1, 1: 3}, learning_rate=0.01, n_estimators=500, objective=binary;, score=0.864 total time=   0.7s\n",
            "done3\n"
          ]
        }
      ],
      "source": [
        "#converting two dimensional labels to 1D\n",
        "train_labels_svm = train_labels[:,0]\n",
        "test_labels_svm = test_labels[:,0]\n",
        "\n",
        "seed = 1376\n",
        "\n",
        "#feature dimensions\n",
        "feature_dim = train_data.shape[1]\n",
        "\n",
        "#feature map of VQC\n",
        "feature_map = ZZFeatureMap(feature_dim)\n",
        "\n",
        "#ansatz we use in VQC\n",
        "ansatz = TwoLocal(feature_dim, ['ry', 'rz'], 'cz', reps = 2)\n",
        "\n",
        "#initialize VQC\n",
        "# initialize VQC with the modified quantum instance\n",
        "from qiskit import Aer\n",
        "from qiskit.providers.aer import QasmSimulator\n",
        "\n",
        "# initialize VQC with the modified quantum instance\n",
        "vqc = VQC(feature_map=feature_map,\n",
        "                 ansatz=ansatz,\n",
        "                 optimizer=COBYLA(maxiter=100),\n",
        "                 quantum_instance=QuantumInstance(BasicAer.get_backend('statevector_simulator'),\n",
        "                                                 seed_simulator=seed,\n",
        "                                                 seed_transpiler=seed)\n",
        "                 )\n",
        "\n",
        "#initialize LGBM classifier\n",
        "clf = lgb.LGBMClassifier()\n",
        "\n",
        "#train base classifiers and append features to data\n",
        "import sklearn\n",
        "from joblib import parallel_backend\n",
        "\n",
        "with parallel_backend('multiprocessing'):      \n",
        "    #Use VQC and train data, append the predicted labels on train data to train data features \n",
        "    vqc.fit(train_data, train_labels)\n",
        "    a = vqc.predict(train_data)\n",
        "    label_1 = np.delete(a,1,1)\n",
        "    train_added = np.append(train_data,label_1,1)\n",
        "    print('done1')\n",
        "    gc.collect()\n",
        "\n",
        "    #append the predicted labels on test data to test data features\n",
        "    d = vqc.predict(test_data)\n",
        "    label_4 = np.delete(d,1,1)\n",
        "    test_added = np.append(test_data,label_4,1)\n",
        "    print('done2')\n",
        "\n",
        "    grid_lgbm = sklearn.model_selection.GridSearchCV(estimator = clf, \n",
        "                                                    param_grid = param_grid_lgbm, \n",
        "                                                    cv=2, verbose=3, scoring='roc_auc', n_jobs = 4)\n",
        "\n",
        "    grid_lgbm.fit(train_added, train_labels_svm)\n",
        "    grid_lgbm = grid_lgbm\n",
        "    grid_result1 = grid_lgbm.best_estimator_\n",
        "    y_pred_1 = grid_result1.predict(test_added)\n",
        "    probs = grid_result1.predict_proba(test_added)\n",
        "    preds = probs[:,1]\n",
        "    gc.collect()\n",
        "    print('done3')"
      ]
    },
    {
      "cell_type": "code",
      "execution_count": null,
      "metadata": {
        "id": "NmbwQLdTk1nS",
        "colab": {
          "base_uri": "https://localhost:8080/"
        },
        "outputId": "cc32259e-9508-4a70-9901-2975f63ab6ce"
      },
      "outputs": [
        {
          "output_type": "stream",
          "name": "stdout",
          "text": [
            "              precision    recall  f1-score   support\n",
            "\n",
            "No Backorder       0.91      0.29      0.44       200\n",
            "   Backorder       0.30      0.91      0.45        67\n",
            "\n",
            "    accuracy                           0.45       267\n",
            "   macro avg       0.60      0.60      0.45       267\n",
            "weighted avg       0.75      0.45      0.44       267\n",
            "\n",
            "                    pre       rec       spe        f1       geo       iba       sup\n",
            "\n",
            "No Backorder       0.91      0.29      0.91      0.44      0.51      0.25       200\n",
            "   Backorder       0.30      0.91      0.29      0.45      0.51      0.28        67\n",
            "\n",
            " avg / total       0.75      0.45      0.75      0.44      0.51      0.26       267\n",
            "\n",
            "[[ 58 142]\n",
            " [  6  61]]\n"
          ]
        }
      ],
      "source": [
        "classes = ['No Backorder','Backorder']\n",
        "print(classification_report(test_labels_svm,y_pred_1,target_names=classes))\n",
        "print(classification_report_imbalanced(test_labels_svm,y_pred_1,target_names=classes))\n",
        "print(confusion_matrix(test_labels_svm,y_pred_1))"
      ]
    },
    {
      "cell_type": "code",
      "execution_count": null,
      "metadata": {
        "id": "QPFEtj_Vk1nS",
        "colab": {
          "base_uri": "https://localhost:8080/",
          "height": 481
        },
        "outputId": "f175776e-d075-43ba-9beb-d58a55a7d882"
      },
      "outputs": [
        {
          "output_type": "display_data",
          "data": {
            "text/plain": [
              "<Figure size 700x500 with 2 Axes>"
            ],
            "image/png": "[encoded data removed]"
          },
          "metadata": {}
        }
      ],
      "source": [
        "cm = confusion_matrix(test_labels_svm,y_pred_1)\n",
        "\n",
        "plt.figure(figsize=(7,5))\n",
        "\n",
        "ax = sns.heatmap(cm/np.sum(cm),fmt='.2%', annot=True, cmap='Blues')\n",
        "\n",
        "ax.set_xlabel('\\nPredicted Values')\n",
        "ax.set_ylabel('Actual Values\\n');\n",
        "\n",
        "ax.xaxis.set_ticklabels(classes)\n",
        "ax.yaxis.set_ticklabels(classes)\n",
        "\n",
        "plt.savefig('cm2.png')\n",
        "plt.show()"
      ]
    },
    {
      "cell_type": "code",
      "execution_count": null,
      "metadata": {
        "id": "nAkPil6Ak1nT",
        "colab": {
          "base_uri": "https://localhost:8080/",
          "height": 487
        },
        "outputId": "f2851144-1dd5-4f3b-8a4a-22f8152e0411"
      },
      "outputs": [
        {
          "output_type": "display_data",
          "data": {
            "text/plain": [
              "<Figure size 700x500 with 1 Axes>"
            ],
            "image/png": "[encoded data removed]"
          },
          "metadata": {}
        }
      ],
      "source": [
        "import sklearn.metrics as metrics\n",
        "# calculate the fpr and tpr for all thresholds of the classification\n",
        "fpr, tpr, threshold = metrics.roc_curve(test_labels_svm, y_pred_1)\n",
        "roc_auc = metrics.auc(fpr, tpr)\n",
        "\n",
        "# method I: plt\n",
        "import matplotlib.pyplot as plt\n",
        "plt.figure(figsize=(7,5))\n",
        "plt.title('Receiver Operating Characteristic Curve')\n",
        "plt.plot(fpr, tpr, 'b', label = 'AUC = %0.2f' % roc_auc)\n",
        "plt.legend(loc = 'lower right')\n",
        "plt.plot([0, 1], [0, 1],'r--')\n",
        "plt.xlim([0, 1])\n",
        "plt.ylim([0, 1])\n",
        "plt.ylabel('True Positive Rate')\n",
        "plt.xlabel('False Positive Rate')\n",
        "plt.savefig('roc_curve2.png')\n",
        "plt.show()"
      ]
    },
    {
      "cell_type": "markdown",
      "metadata": {
        "id": "jBxEUwf7k1nT"
      },
      "source": [
        "# vqc_base_qsvm_metaclassifier_stacking"
      ]
    },
    {
      "cell_type": "code",
      "execution_count": null,
      "metadata": {
        "id": "c8Rra5yAk1nT"
      },
      "outputs": [],
      "source": [
        "#converting two dimensional labels to 1D\n",
        "train_labels_svm = train_labels[:,0]\n",
        "test_labels_svm = test_labels[:,0]\n",
        "\n",
        "seed = 1376\n",
        "\n",
        "#feature dimensions\n",
        "feature_dim = train_data.shape[1]\n",
        "\n",
        "#feature map of VQC and QSVM\n",
        "feature_map = ZZFeatureMap(feature_dim)\n",
        "\n",
        "#ansatz we use in VQC\n",
        "ansatz = TwoLocal(feature_dim, ['ry', 'rz'], 'cz', reps = 2)\n",
        "\n",
        "#initialize VQC\n",
        "vqc = VQC(feature_map=feature_map,\n",
        "                 ansatz=ansatz,\n",
        "                 optimizer=COBYLA(maxiter=100),\n",
        "                 quantum_instance=QuantumInstance(BasicAer.get_backend('statevector_simulator'),\n",
        "                                                 seed_simulator=seed,\n",
        "                                                 seed_transpiler=seed)\n",
        "                 )\n",
        "\n",
        "#initialize kernel of QSVM\n",
        "kernel = QuantumKernel(feature_map=feature_map,\n",
        "                             quantum_instance=QuantumInstance(BasicAer.get_backend('statevector_simulator'),\n",
        "                                            shots=1,\n",
        "                                            seed_simulator=seed,\n",
        "                                                              seed_transpiler=seed))\n",
        "\n",
        "#initialize QSVM\n",
        "qsvc = QSVC(quantum_kernel=kernel)"
      ]
    },
    {
      "cell_type": "code",
      "execution_count": null,
      "metadata": {
        "id": "6aL8FHsZk1nT",
        "colab": {
          "base_uri": "https://localhost:8080/"
        },
        "outputId": "a7fd27d4-cc80-4941-c315-a7f63cf6a04e"
      },
      "outputs": [
        {
          "output_type": "stream",
          "name": "stdout",
          "text": [
            "done1\n",
            "done2\n",
            "done3\n"
          ]
        }
      ],
      "source": [
        "#train base classifiers and append features to data\n",
        "#Use VQC and train data, append the predicted labels on train data to train data features \n",
        "from joblib import parallel_backend\n",
        "with parallel_backend('multiprocessing'):  \n",
        "    vqc.fit(train_data, train_labels)\n",
        "    a = vqc.predict(train_data)\n",
        "    label_1 = np.delete(a,1,1)\n",
        "    train_added = np.append(train_data,label_1,1)\n",
        "    print('done1')\n",
        "    gc.collect()\n",
        "    #append the predicted labels on test data to test data features\n",
        "    d = vqc.predict(test_data)\n",
        "    label_4 = np.delete(d,1,1)\n",
        "    test_added = np.append(test_data,label_4,1)\n",
        "    print('done2')\n",
        "    gc.collect()\n",
        "\n",
        "    qsvc.fit(train_added, train_labels_svm)\n",
        "    y_pred_1 = qsvc.predict(test_added)\n",
        "    gc.collect()\n",
        "    print('done3')"
      ]
    },
    {
      "cell_type": "code",
      "execution_count": null,
      "metadata": {
        "id": "B8ri7afwk1nU",
        "colab": {
          "base_uri": "https://localhost:8080/"
        },
        "outputId": "61ca4049-ce46-4471-96c1-47649754d5d7"
      },
      "outputs": [
        {
          "output_type": "stream",
          "name": "stdout",
          "text": [
            "              precision    recall  f1-score   support\n",
            "\n",
            "No Backorder       0.94      0.29      0.44       200\n",
            "   Backorder       0.31      0.94      0.46        67\n",
            "\n",
            "    accuracy                           0.45       267\n",
            "   macro avg       0.62      0.62      0.45       267\n",
            "weighted avg       0.78      0.45      0.45       267\n",
            "\n",
            "                    pre       rec       spe        f1       geo       iba       sup\n",
            "\n",
            "No Backorder       0.94      0.29      0.94      0.44      0.52      0.25       200\n",
            "   Backorder       0.31      0.94      0.29      0.46      0.52      0.29        67\n",
            "\n",
            " avg / total       0.78      0.45      0.78      0.45      0.52      0.26       267\n",
            "\n",
            "[[ 58 142]\n",
            " [  4  63]]\n"
          ]
        }
      ],
      "source": [
        "classes = ['No Backorder','Backorder']\n",
        "print(classification_report(test_labels_svm,y_pred_1,target_names=classes))\n",
        "print(classification_report_imbalanced(test_labels_svm,y_pred_1,target_names=classes))\n",
        "print(confusion_matrix(test_labels_svm,y_pred_1))"
      ]
    },
    {
      "cell_type": "code",
      "execution_count": null,
      "metadata": {
        "id": "WxKBR0bak1nU",
        "colab": {
          "base_uri": "https://localhost:8080/",
          "height": 481
        },
        "outputId": "74a74d69-e8ea-4cf9-d485-817de857d0ee"
      },
      "outputs": [
        {
          "output_type": "display_data",
          "data": {
            "text/plain": [
              "<Figure size 700x500 with 2 Axes>"
            ],
            "image/png": "[encoded data removed]"
          },
          "metadata": {}
        }
      ],
      "source": [
        "cm = confusion_matrix(test_labels_svm,y_pred_1)\n",
        "\n",
        "plt.figure(figsize=(7,5))\n",
        "\n",
        "ax = sns.heatmap(cm/np.sum(cm),fmt='.2%', annot=True, cmap='Blues')\n",
        "\n",
        "ax.set_xlabel('\\nPredicted Values')\n",
        "ax.set_ylabel('Actual Values\\n');\n",
        "\n",
        "ax.xaxis.set_ticklabels(classes)\n",
        "ax.yaxis.set_ticklabels(classes)\n",
        "\n",
        "plt.savefig('cm3.png')\n",
        "plt.show()"
      ]
    },
    {
      "cell_type": "code",
      "execution_count": null,
      "metadata": {
        "id": "_R3Zfn_Sk1nU",
        "colab": {
          "base_uri": "https://localhost:8080/",
          "height": 487
        },
        "outputId": "feb66d83-b235-4784-b93d-91b3b812c9bc"
      },
      "outputs": [
        {
          "output_type": "display_data",
          "data": {
            "text/plain": [
              "<Figure size 700x500 with 1 Axes>"
            ],
            "image/png": "[encoded data removed]"
          },
          "metadata": {}
        }
      ],
      "source": [
        "import sklearn.metrics as metrics\n",
        "# calculate the fpr and tpr for all thresholds of the classification\n",
        "fpr, tpr, threshold = metrics.roc_curve(test_labels_svm, y_pred_1)\n",
        "roc_auc = metrics.auc(fpr, tpr)\n",
        "\n",
        "# method I: plt\n",
        "import matplotlib.pyplot as plt\n",
        "plt.figure(figsize=(7,5))\n",
        "plt.title('Receiver Operating Characteristic Curve')\n",
        "plt.plot(fpr, tpr, 'b', label = 'AUC = %0.2f' % roc_auc)\n",
        "plt.legend(loc = 'lower right')\n",
        "plt.plot([0, 1], [0, 1],'r--')\n",
        "plt.xlim([0, 1])\n",
        "plt.ylim([0, 1])\n",
        "plt.ylabel('True Positive Rate')\n",
        "plt.xlabel('False Positive Rate')\n",
        "plt.savefig('roc_curve3.png')\n",
        "plt.show()"
      ]
    },
    {
      "cell_type": "code",
      "execution_count": null,
      "metadata": {
        "id": "LTtq3_f3k1nU"
      },
      "outputs": [],
      "source": []
    }
  ],
  "metadata": {
    "colab": {
      "provenance": [],
      "gpuType": "T4"
    },
    "kernelspec": {
      "display_name": "Python 3",
      "name": "python3"
    },
    "language_info": {
      "codemirror_mode": {
        "name": "ipython",
        "version": 3
      },
      "file_extension": ".py",
      "mimetype": "text/x-python",
      "name": "python",
      "nbconvert_exporter": "python",
      "pygments_lexer": "ipython3",
      "version": "3.7.12"
    }
  },
  "nbformat": 4,
  "nbformat_minor": 0
}